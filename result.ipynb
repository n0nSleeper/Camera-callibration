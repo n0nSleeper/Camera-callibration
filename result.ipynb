{
 "cells": [
  {
   "cell_type": "code",
   "execution_count": 46,
   "metadata": {},
   "outputs": [],
   "source": [
    "import numpy as np \n",
    "import pandas as pd \n",
    "from utils import *\n",
    "np.set_printoptions(suppress=True)"
   ]
  },
  {
   "cell_type": "markdown",
   "metadata": {},
   "source": [
    "Loading data "
   ]
  },
  {
   "cell_type": "code",
   "execution_count": 47,
   "metadata": {},
   "outputs": [],
   "source": [
    "x1_max = 27.3\n",
    "x2_max = 18.9\n",
    "u1_max = 2052\n",
    "u2_max = 1431\n",
    "\n",
    "ob_height = 1.5\n",
    "df = pd.read_csv(\"data.csv\")\n",
    "sample_size = len(df[\"x_world\"])\n",
    "\n",
    "#processing data into respective matrix\n",
    "U_pca_ = np.array(df[[\"u_pca\", \"v_pca\"]], dtype=\"float64\")\n",
    "_U_pca = np.ones(sample_size, dtype=\"float64\")\n",
    "U_pca = np.empty((sample_size, 3), dtype=\"float64\")\n",
    "U_pca[:, :2] = U_pca_\n",
    "U_pca[:, 2] = _U_pca\n",
    "\n",
    "\n",
    "X_ = np.array(df[[\"x_world\", \"y_world\"]], dtype=\"float64\")\n",
    "_X_= ob_height*np.ones(sample_size, dtype=\"float64\")\n",
    "_X = np.ones(sample_size, dtype=\"float64\")\n",
    "X = np.empty((sample_size, 4), dtype=\"float64\")\n",
    "X[:,:2] = X_\n",
    "X[:, 2] = _X_ \n",
    "X[:, 3] = _X \n",
    "\n",
    "\n",
    "X[:, 0] = X[:,0]/x1_max\n",
    "X[:, 1] = X[:,1]/x2_max\n",
    "\n",
    "U_pca[:, 0] = U_pca[:,0]/u1_max\n",
    "U_pca[:, 1] = U_pca[:,1]/u2_max\n",
    "\n",
    "\n",
    "\n",
    "U_pca = U_pca.T\n",
    "X = X.T "
   ]
  },
  {
   "cell_type": "code",
   "execution_count": 48,
   "metadata": {},
   "outputs": [],
   "source": [
    "def rmse(Y, Y_hat):\n",
    "    m = Y.shape[1]\n",
    "    res = 1/m * np.sum(np.square(Y - Y_hat))\n",
    "    return np.sqrt(res)\n",
    "\n",
    "def unnormalize(Xu, x1, x2):\n",
    "    Xu[:, 0] = Xu[:, 0]*x1\n",
    "    Xu[:, 1] = Xu[:,1]*x2\n",
    "    return Xu.T\n"
   ]
  },
  {
   "cell_type": "code",
   "execution_count": 49,
   "metadata": {},
   "outputs": [],
   "source": [
    "M_ = np.load(\"M_.npy\")\n"
   ]
  },
  {
   "cell_type": "code",
   "execution_count": 50,
   "metadata": {},
   "outputs": [],
   "source": [
    "U_pca_hat = np.dot(np.linalg.inv(np.dot(M_.T, M_)), np.dot(M_.T, X))\n",
    "X_pred = np.dot(M_, U_pca)"
   ]
  },
  {
   "cell_type": "code",
   "execution_count": 51,
   "metadata": {},
   "outputs": [],
   "source": [
    "U_pca_hat = np.round(unnormalize(U_pca_hat.T, u1_max, u2_max), 0)\n",
    "X_pred = unnormalize(X_pred.T, x1_max, x2_max)"
   ]
  },
  {
   "cell_type": "code",
   "execution_count": 52,
   "metadata": {},
   "outputs": [],
   "source": [
    "gtX = unnormalize(X.T, x1_max, x2_max)\n",
    "gtU = unnormalize(U_pca.T, u1_max, u2_max)\n",
    "\n",
    "e1 = round(rmse(U_pca_hat, gtU), 2)\n",
    "e2 = round(rmse(X_pred, gtX), 2)"
   ]
  },
  {
   "cell_type": "markdown",
   "metadata": {},
   "source": [
    "Error"
   ]
  },
  {
   "cell_type": "code",
   "execution_count": 53,
   "metadata": {},
   "outputs": [
    {
     "name": "stdout",
     "output_type": "stream",
     "text": [
      "3D -> 2D error: 19.0\n",
      "2D -> 3D error: 0.25 cm\n"
     ]
    }
   ],
   "source": [
    "print(f\"3D -> 2D error: {np.round(e1,0)}\")\n",
    "print(f\"2D -> 3D error: {e2} cm\")"
   ]
  }
 ],
 "metadata": {
  "kernelspec": {
   "display_name": "Python 3",
   "language": "python",
   "name": "python3"
  },
  "language_info": {
   "codemirror_mode": {
    "name": "ipython",
    "version": 3
   },
   "file_extension": ".py",
   "mimetype": "text/x-python",
   "name": "python",
   "nbconvert_exporter": "python",
   "pygments_lexer": "ipython3",
   "version": "3.10.13"
  }
 },
 "nbformat": 4,
 "nbformat_minor": 2
}
